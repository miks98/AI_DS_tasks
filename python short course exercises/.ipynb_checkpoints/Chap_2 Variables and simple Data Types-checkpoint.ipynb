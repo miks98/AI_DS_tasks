{
 "cells": [
  {
   "cell_type": "markdown",
   "metadata": {},
   "source": [
    "# Variables and simple Data Types"
   ]
  },
  {
   "cell_type": "markdown",
   "metadata": {},
   "source": [
    "#### Try It Yourself\n",
    "Write a separate program to accomplish each of these exercises. Save each program with a filename that follows standard Python conventions, using lowercase letters and underscores, such as simple_message.py and simple_messages.py.\n",
    "\n",
    "2-1. Simple Message: Store a message in a variable, and then print thatmessage. <br>\n",
    "2-2. Simple Messages: Store a message in a variable, and print that message.Then change the value of your variable to a new message, and print the new\n",
    "message."
   ]
  },
  {
   "cell_type": "code",
   "execution_count": 4,
   "metadata": {},
   "outputs": [],
   "source": [
    "#2-1\n",
    "message= \"This is my second exercise\""
   ]
  },
  {
   "cell_type": "code",
   "execution_count": 5,
   "metadata": {},
   "outputs": [
    {
     "name": "stdout",
     "output_type": "stream",
     "text": [
      "This is my second exercise\n"
     ]
    }
   ],
   "source": [
    "print(message)"
   ]
  },
  {
   "cell_type": "code",
   "execution_count": 8,
   "metadata": {},
   "outputs": [],
   "source": [
    "#2-2\n",
    "message1= \"My github id is miks98\""
   ]
  },
  {
   "cell_type": "code",
   "execution_count": 9,
   "metadata": {},
   "outputs": [
    {
     "name": "stdout",
     "output_type": "stream",
     "text": [
      "My github id is miks98\n"
     ]
    }
   ],
   "source": [
    "print(message1)"
   ]
  },
  {
   "cell_type": "code",
   "execution_count": 10,
   "metadata": {},
   "outputs": [],
   "source": [
    "message1 = \"Hello\""
   ]
  },
  {
   "cell_type": "code",
   "execution_count": 11,
   "metadata": {},
   "outputs": [
    {
     "name": "stdout",
     "output_type": "stream",
     "text": [
      "Hello\n"
     ]
    }
   ],
   "source": [
    "print(message1)"
   ]
  },
  {
   "cell_type": "markdown",
   "metadata": {},
   "source": [
    "#### Try It Yourself\n",
    "Save each of the following exercises as a separate file with a name like name_cases.py. If you get stuck, take a break or see the suggestions in\n",
    "Appendix C.\n",
    "\n",
    "2-3. Personal Message: Store a person’s name in a variable, and print a message to that person. Your message should be simple, such as, “Hello Eric,\n",
    "would you like to learn some Python today?”\n",
    "\n",
    "2-4. Name Cases: Store a person’s name in a variable, and then print that person’s name in lowercase, uppercase, and titlecase.\n",
    "\n",
    "2-5. Famous Quote: Find a quote from a famous person you admire. Print the quote and the name of its author. Your output should look something like the following, including the quotation marks:\n",
    "    <b>Albert Einstein once said, “A person who never made a mistake never tried anything new\".</b>\n",
    "    \n",
    "2-6. Famous Quote 2: Repeat Exercise 2-5, but this time store the famous person’s name in a variable called famous_person. Then compose your message and store it in a new variable called message. Print your message.\n",
    "\n",
    "2-7. Stripping Names: Store a person’s name, and include some whitespace characters at the beginning and end of the name. Make sure you use each character combination, \"\\t\" and \"\\n\", at least once. Print the name once, so the whitespace around the name is displayed. Then print the name using each of the three stripping functions, lstrip(), rstrip(), and strip()."
   ]
  },
  {
   "cell_type": "code",
   "execution_count": 35,
   "metadata": {},
   "outputs": [
    {
     "name": "stdout",
     "output_type": "stream",
     "text": [
      "Hello ! Ali , What are you feeling today?\n"
     ]
    }
   ],
   "source": [
    "# 2-3\n",
    "name = \"Ali\"\n",
    "print(\"Hello !\",name,\", What are you feeling today?\")"
   ]
  },
  {
   "cell_type": "code",
   "execution_count": 36,
   "metadata": {},
   "outputs": [
    {
     "name": "stdout",
     "output_type": "stream",
     "text": [
      "(Title case=)\t Ali\n",
      "(Lower case=)\t ali\n",
      "(Upper case=)\t ALI\n"
     ]
    }
   ],
   "source": [
    "# 2-4\n",
    "print(\"(Title case=)\\t\",name.title()) #title() tells Python to make the title() method act on the variable name.\n",
    "print (\"(Lower case=)\\t\",name.lower()) #lower case\n",
    "print(\"(Upper case=)\\t\",name.upper()) #upper case"
   ]
  },
  {
   "cell_type": "code",
   "execution_count": 42,
   "metadata": {},
   "outputs": [
    {
     "name": "stdout",
     "output_type": "stream",
     "text": [
      "Michael Jordan once said,  \"If nobody helps you, Do it alone\"\n"
     ]
    }
   ],
   "source": [
    "# 2-5\n",
    "author = \"michael jordan\"\n",
    "msg = \" \\\"If nobody helps you, Do it alone\\\"\"\n",
    "print(author.title(),\"once said,\",msg)"
   ]
  },
  {
   "cell_type": "code",
   "execution_count": 48,
   "metadata": {},
   "outputs": [
    {
     "name": "stdout",
     "output_type": "stream",
     "text": [
      "('Michael Jordan', 'once said,', ' \"If nobody helps you, Do it alone\"')\n"
     ]
    }
   ],
   "source": [
    "# 2-6\n",
    "famous_person = author\n",
    "message =(author.title(),\"once said,\",msg)\n",
    "print(message)"
   ]
  },
  {
   "cell_type": "code",
   "execution_count": 59,
   "metadata": {},
   "outputs": [
    {
     "name": "stdout",
     "output_type": "stream",
     "text": [
      "===================================================\n",
      "                Name:\t Sami    \n",
      "Surname:\t Khan\n",
      "===================================================\n",
      "Name:\t Sami    \n",
      "Surname:\t Khan\n",
      "===================================================\n",
      "Name:\t Sami    \n",
      "Surname:\t Khan\n",
      "===================================================\n",
      "                Name:\t Sami    \n",
      "Surname:\t Khan\n",
      "===================================================\n"
     ]
    }
   ],
   "source": [
    "# 2-7\n",
    "person_name= \"                Name:\\t Sami    \\nSurname:\\t Khan\"\n",
    "print(\"===================================================\")\n",
    "print(person_name)\n",
    "print(\"===================================================\")\n",
    "print(person_name.lstrip())\n",
    "print(\"===================================================\")\n",
    "print(person_name.strip())\n",
    "print(\"===================================================\")\n",
    "print(person_name.rstrip())\n",
    "print(\"===================================================\")"
   ]
  },
  {
   "cell_type": "markdown",
   "metadata": {},
   "source": [
    "#### Try It Yourself\n",
    "2-8. Number Eight: Write addition, subtraction, multiplication, and division operations that each result in the number 8. Be sure to enclose your operations in print statements to see the results. You should create four lines that look like this:<br>\n",
    "<b>print(5 + 3)</b><br>\n",
    "Your output should simply be four lines with the number 8 appearing once on each line.\n",
    "\n",
    "2-9. Favorite Number: Store your favorite number in a variable. Then, using\n",
    "that variable, create a message that reveals your favorite number. Print that\n",
    "message"
   ]
  },
  {
   "cell_type": "code",
   "execution_count": 62,
   "metadata": {},
   "outputs": [
    {
     "name": "stdout",
     "output_type": "stream",
     "text": [
      "8\n",
      "8\n",
      "8\n",
      "8\n"
     ]
    }
   ],
   "source": [
    "# 2-8\n",
    "print(2+6)\n",
    "print(9-1)\n",
    "print(2*4)\n",
    "print(int(16/2))"
   ]
  },
  {
   "cell_type": "code",
   "execution_count": 66,
   "metadata": {},
   "outputs": [
    {
     "name": "stdout",
     "output_type": "stream",
     "text": [
      "My Favourite Number Is 9\n"
     ]
    }
   ],
   "source": [
    "# 2-9\n",
    "fav_num = 9\n",
    "message=\"my favourite number is\"\n",
    "print(message.title(), fav_num)"
   ]
  },
  {
   "cell_type": "markdown",
   "metadata": {},
   "source": [
    "#### Try It Yourself\n",
    "2-10. Adding Comments: Choose two of the programs you’ve written, and add at least one comment to each. If you don’t have anything specific to write because your programs are too simple at this point, just add your name and the current date at the top of each program file. Then write one sentence describing what the program does."
   ]
  },
  {
   "cell_type": "code",
   "execution_count": 67,
   "metadata": {},
   "outputs": [
    {
     "name": "stdout",
     "output_type": "stream",
     "text": [
      "8\n",
      "8\n",
      "8\n",
      "8\n"
     ]
    }
   ],
   "source": [
    "# 2-10\n",
    "# (Addition)\n",
    "print(2+6)\n",
    "# (Subtraction)\n",
    "print(9-1)\n",
    "# (Multiplication)\n",
    "print(2*4)\n",
    "# (Division)\n",
    "print(int(16/2))"
   ]
  },
  {
   "cell_type": "markdown",
   "metadata": {},
   "source": [
    "#### Try It Yourself\n",
    "2-11. Zen of Python: Enter import this into a Python terminal session and skim through the additional principles."
   ]
  },
  {
   "cell_type": "code",
   "execution_count": 1,
   "metadata": {},
   "outputs": [
    {
     "name": "stdout",
     "output_type": "stream",
     "text": [
      "The Zen of Python, by Tim Peters\n",
      "\n",
      "Beautiful is better than ugly.\n",
      "Explicit is better than implicit.\n",
      "Simple is better than complex.\n",
      "Complex is better than complicated.\n",
      "Flat is better than nested.\n",
      "Sparse is better than dense.\n",
      "Readability counts.\n",
      "Special cases aren't special enough to break the rules.\n",
      "Although practicality beats purity.\n",
      "Errors should never pass silently.\n",
      "Unless explicitly silenced.\n",
      "In the face of ambiguity, refuse the temptation to guess.\n",
      "There should be one-- and preferably only one --obvious way to do it.\n",
      "Although that way may not be obvious at first unless you're Dutch.\n",
      "Now is better than never.\n",
      "Although never is often better than *right* now.\n",
      "If the implementation is hard to explain, it's a bad idea.\n",
      "If the implementation is easy to explain, it may be a good idea.\n",
      "Namespaces are one honking great idea -- let's do more of those!\n"
     ]
    }
   ],
   "source": [
    "import this"
   ]
  },
  {
   "cell_type": "code",
   "execution_count": null,
   "metadata": {},
   "outputs": [],
   "source": []
  },
  {
   "cell_type": "code",
   "execution_count": null,
   "metadata": {},
   "outputs": [],
   "source": []
  },
  {
   "cell_type": "code",
   "execution_count": null,
   "metadata": {},
   "outputs": [],
   "source": []
  },
  {
   "cell_type": "markdown",
   "metadata": {},
   "source": [
    "# Practice"
   ]
  },
  {
   "cell_type": "code",
   "execution_count": 23,
   "metadata": {},
   "outputs": [
    {
     "name": "stdout",
     "output_type": "stream",
     "text": [
      "(String=)\t     My github id is miks98    \n"
     ]
    }
   ],
   "source": [
    "string=\"    My github id is miks98    \"\n",
    "print(\"(String=)\\t\",string)"
   ]
  },
  {
   "cell_type": "code",
   "execution_count": 34,
   "metadata": {},
   "outputs": [
    {
     "name": "stdout",
     "output_type": "stream",
     "text": [
      "(Title case=)\t     My Github Id Is Miks98    \n",
      "(Lower case=)\t     my github id is miks98    \n",
      "(Upper case=)\t     MY GITHUB ID IS MIKS98    \n",
      "(Left Strip=)\t My github id is miks98    \n",
      "(Right Strip=)\t     My github id is miks98\n"
     ]
    }
   ],
   "source": [
    "print(\"(Title case=)\\t\",string.title()) #title() tells Python to make the title() method act on the variable name.\n",
    "print (\"(Lower case=)\\t\",string.lower()) #\n",
    "print(\"(Upper case=)\\t\",string.upper()) #\n",
    "print (\"(Left Strip=)\\t\",string.lstrip()) #remove all white spaces before string\n",
    "print (\"(Right Strip=)\\t\",string.rstrip()) #remove all white spaces after string"
   ]
  }
 ],
 "metadata": {
  "kernelspec": {
   "display_name": "Python 3",
   "language": "python",
   "name": "python3"
  },
  "language_info": {
   "codemirror_mode": {
    "name": "ipython",
    "version": 3
   },
   "file_extension": ".py",
   "mimetype": "text/x-python",
   "name": "python",
   "nbconvert_exporter": "python",
   "pygments_lexer": "ipython3",
   "version": "3.7.3"
  }
 },
 "nbformat": 4,
 "nbformat_minor": 2
}
