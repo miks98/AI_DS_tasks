{
 "cells": [
  {
   "cell_type": "code",
   "execution_count": 3,
   "metadata": {},
   "outputs": [
    {
     "name": "stdout",
     "output_type": "stream",
     "text": [
      "Requirement already satisfied: pyperclip in c:\\users\\miks\\anaconda3\\lib\\site-packages (1.8.1)\n",
      "Note: you may need to restart the kernel to use updated packages.\n"
     ]
    },
    {
     "name": "stderr",
     "output_type": "stream",
     "text": [
      "WARNING: You are using pip version 20.2.4; however, version 21.0.1 is available.\n",
      "You should consider upgrading via the 'C:\\Users\\MIKS\\Anaconda3\\python.exe -m pip install --upgrade pip' command.\n"
     ]
    }
   ],
   "source": [
    "pip install pyperclip"
   ]
  },
  {
   "cell_type": "code",
   "execution_count": 4,
   "metadata": {},
   "outputs": [],
   "source": [
    "from tkinter import *\n",
    "import pyperclip\n",
    "root = Tk()\n",
    "root.geometry(\"400x400\")\n",
    "pass_details = StringVar()\n",
    "myList = []\n",
    "\n",
    "def see_wifi_pass():\n",
    "    import subprocess\n",
    "    global myList\n",
    "    data = subprocess.check_output(['netsh', 'wlan', 'show', 'profiles']).decode('utf-8').split('\\n')\n",
    "    profiles = [i.split(\":\")[1][1:-1] for i in data if \"All User Profile\" in i]\n",
    "    for i in profiles:\n",
    "        results = subprocess.check_output(['netsh', 'wlan', 'show', 'profile', i, 'key=clear']).decode('utf-8').split(\n",
    "            '\\n')\n",
    "        results = [b.split(\":\")[1][1:-1] for b in results if \"Key Content\" in b]\n",
    "        try:\n",
    "            myList.append(i)\n",
    "            myList.append(\"--\")\n",
    "            myList.append(results[0])\n",
    "            myList.append(\"|\")\n",
    "        except IndexError:\n",
    "            myList.append(i)\n",
    "            myList.append(\"--\")\n",
    "            myList.append(\"\")\n",
    "\n",
    "def show_wifi_pass():\n",
    "    pass_details.set(myList)\n",
    "\n",
    "\n",
    "def copytoclipboard():\n",
    "    password = pass_details.get()\n",
    "    pyperclip.copy(password)\n",
    "\n",
    "\n",
    "Label(root, text=\"Gui Wifi Password Checker\", font=\"calibri 20 bold\").pack()\n",
    "Button(root, text=\"Initiate Process Now\", command=see_wifi_pass).pack(pady=10)\n",
    "Button(root, text=\"Show wifi pass details\", command=show_wifi_pass).pack(pady=10)\n",
    "Entry(root, textvariable=pass_details, width=50).pack(pady=10)\n",
    "Button(root, text=\"Copy to clipbord\", command=copytoclipboard).pack(pady=10)\n",
    "\n",
    "root.mainloop()\n",
    "\n"
   ]
  },
  {
   "cell_type": "code",
   "execution_count": null,
   "metadata": {},
   "outputs": [],
   "source": []
  }
 ],
 "metadata": {
  "kernelspec": {
   "display_name": "Python 3",
   "language": "python",
   "name": "python3"
  },
  "language_info": {
   "codemirror_mode": {
    "name": "ipython",
    "version": 3
   },
   "file_extension": ".py",
   "mimetype": "text/x-python",
   "name": "python",
   "nbconvert_exporter": "python",
   "pygments_lexer": "ipython3",
   "version": "3.7.3"
  }
 },
 "nbformat": 4,
 "nbformat_minor": 2
}
